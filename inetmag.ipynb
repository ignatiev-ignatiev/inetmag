{
 "cells": [
  {
   "cell_type": "markdown",
   "metadata": {
    "toc": true
   },
   "source": [
    "<h1>Содержание<span class=\"tocSkip\"></span></h1>\n",
    "<div class=\"toc\"><ul class=\"toc-item\"><li><span><a href=\"#Подготовка\" data-toc-modified-id=\"Подготовка-1\"><span class=\"toc-item-num\">1&nbsp;&nbsp;</span>Подготовка</a></span></li><li><span><a href=\"#Обучение\" data-toc-modified-id=\"Обучение-2\"><span class=\"toc-item-num\">2&nbsp;&nbsp;</span>Обучение</a></span></li><li><span><a href=\"#Выводы\" data-toc-modified-id=\"Выводы-3\"><span class=\"toc-item-num\">3&nbsp;&nbsp;</span>Выводы</a></span></li><li><span><a href=\"#Чек-лист-проверки\" data-toc-modified-id=\"Чек-лист-проверки-4\"><span class=\"toc-item-num\">4&nbsp;&nbsp;</span>Чек-лист проверки</a></span></li></ul></div>"
   ]
  },
  {
   "cell_type": "markdown",
   "metadata": {},
   "source": [
    "# Проект для «Викишоп»"
   ]
  },
  {
   "cell_type": "markdown",
   "metadata": {},
   "source": [
    "Интернет-магазин «Викишоп» запускает новый сервис. Теперь пользователи могут редактировать и дополнять описания товаров, как в вики-сообществах. То есть клиенты предлагают свои правки и комментируют изменения других. Магазину нужен инструмент, который будет искать токсичные комментарии и отправлять их на модерацию. \n",
    "\n",
    "Обучите модель классифицировать комментарии на позитивные и негативные. В вашем распоряжении набор данных с разметкой о токсичности правок.\n",
    "\n",
    "Постройте модель со значением метрики качества *F1* не меньше 0.75. \n",
    "\n",
    "**Инструкция по выполнению проекта**\n",
    "\n",
    "1. Загрузите и подготовьте данные.\n",
    "2. Обучите разные модели. \n",
    "3. Сделайте выводы.\n",
    "\n",
    "Для выполнения проекта применять *BERT* необязательно, но вы можете попробовать.\n",
    "\n",
    "**Описание данных**\n",
    "\n",
    "Данные находятся в файле `toxic_comments.csv`. Столбец *text* в нём содержит текст комментария, а *toxic* — целевой признак."
   ]
  },
  {
   "cell_type": "markdown",
   "metadata": {},
   "source": [
    "## Подготовка"
   ]
  },
  {
   "cell_type": "code",
   "execution_count": 14,
   "metadata": {},
   "outputs": [
    {
     "name": "stderr",
     "output_type": "stream",
     "text": [
      "[nltk_data] Downloading package averaged_perceptron_tagger to\n",
      "[nltk_data]     /home/jovyan/nltk_data...\n",
      "[nltk_data]   Package averaged_perceptron_tagger is already up-to-\n",
      "[nltk_data]       date!\n"
     ]
    }
   ],
   "source": [
    "import numpy as np\n",
    "import pandas as pd\n",
    "\n",
    "import re\n",
    "\n",
    "import nltk\n",
    "nltk.download('averaged_perceptron_tagger')\n",
    "from nltk.corpus import stopwords as nltk_stopwords\n",
    "from nltk.corpus import wordnet\n",
    "from nltk.stem import WordNetLemmatizer\n",
    "\n",
    "from sklearn.pipeline import Pipeline, make_pipeline\n",
    "from sklearn.feature_extraction.text import TfidfVectorizer\n",
    "from sklearn.model_selection import train_test_split, cross_val_score, GridSearchCV\n",
    "\n",
    "from sklearn.linear_model import LogisticRegression, SGDClassifier\n",
    "from sklearn.tree import DecisionTreeClassifier\n",
    "from sklearn.ensemble import RandomForestClassifier\n",
    "\n",
    "from sklearn.metrics import f1_score\n",
    "import matplotlib.pyplot as plt\n",
    "from sklearn.utils import shuffle\n",
    "\n",
    "from catboost import CatBoostClassifier\n",
    "from sklearn.utils import class_weight"
   ]
  },
  {
   "cell_type": "code",
   "execution_count": 15,
   "metadata": {},
   "outputs": [],
   "source": [
    "data = pd.read_csv('/datasets/toxic_comments.csv')"
   ]
  },
  {
   "cell_type": "code",
   "execution_count": 16,
   "metadata": {},
   "outputs": [
    {
     "data": {
      "text/html": [
       "<div>\n",
       "<style scoped>\n",
       "    .dataframe tbody tr th:only-of-type {\n",
       "        vertical-align: middle;\n",
       "    }\n",
       "\n",
       "    .dataframe tbody tr th {\n",
       "        vertical-align: top;\n",
       "    }\n",
       "\n",
       "    .dataframe thead th {\n",
       "        text-align: right;\n",
       "    }\n",
       "</style>\n",
       "<table border=\"1\" class=\"dataframe\">\n",
       "  <thead>\n",
       "    <tr style=\"text-align: right;\">\n",
       "      <th></th>\n",
       "      <th>Unnamed: 0</th>\n",
       "      <th>text</th>\n",
       "      <th>toxic</th>\n",
       "    </tr>\n",
       "  </thead>\n",
       "  <tbody>\n",
       "    <tr>\n",
       "      <th>0</th>\n",
       "      <td>0</td>\n",
       "      <td>Explanation\\nWhy the edits made under my usern...</td>\n",
       "      <td>0</td>\n",
       "    </tr>\n",
       "    <tr>\n",
       "      <th>1</th>\n",
       "      <td>1</td>\n",
       "      <td>D'aww! He matches this background colour I'm s...</td>\n",
       "      <td>0</td>\n",
       "    </tr>\n",
       "    <tr>\n",
       "      <th>2</th>\n",
       "      <td>2</td>\n",
       "      <td>Hey man, I'm really not trying to edit war. It...</td>\n",
       "      <td>0</td>\n",
       "    </tr>\n",
       "    <tr>\n",
       "      <th>3</th>\n",
       "      <td>3</td>\n",
       "      <td>\"\\nMore\\nI can't make any real suggestions on ...</td>\n",
       "      <td>0</td>\n",
       "    </tr>\n",
       "    <tr>\n",
       "      <th>4</th>\n",
       "      <td>4</td>\n",
       "      <td>You, sir, are my hero. Any chance you remember...</td>\n",
       "      <td>0</td>\n",
       "    </tr>\n",
       "  </tbody>\n",
       "</table>\n",
       "</div>"
      ],
      "text/plain": [
       "   Unnamed: 0                                               text  toxic\n",
       "0           0  Explanation\\nWhy the edits made under my usern...      0\n",
       "1           1  D'aww! He matches this background colour I'm s...      0\n",
       "2           2  Hey man, I'm really not trying to edit war. It...      0\n",
       "3           3  \"\\nMore\\nI can't make any real suggestions on ...      0\n",
       "4           4  You, sir, are my hero. Any chance you remember...      0"
      ]
     },
     "metadata": {},
     "output_type": "display_data"
    }
   ],
   "source": [
    "display(data.head(5))"
   ]
  },
  {
   "cell_type": "code",
   "execution_count": 17,
   "metadata": {},
   "outputs": [
    {
     "name": "stdout",
     "output_type": "stream",
     "text": [
      "<class 'pandas.core.frame.DataFrame'>\n",
      "RangeIndex: 159292 entries, 0 to 159291\n",
      "Data columns (total 3 columns):\n",
      " #   Column      Non-Null Count   Dtype \n",
      "---  ------      --------------   ----- \n",
      " 0   Unnamed: 0  159292 non-null  int64 \n",
      " 1   text        159292 non-null  object\n",
      " 2   toxic       159292 non-null  int64 \n",
      "dtypes: int64(2), object(1)\n",
      "memory usage: 3.6+ MB\n"
     ]
    }
   ],
   "source": [
    "data.info()"
   ]
  },
  {
   "cell_type": "code",
   "execution_count": 18,
   "metadata": {},
   "outputs": [
    {
     "data": {
      "text/plain": [
       "0"
      ]
     },
     "metadata": {},
     "output_type": "display_data"
    }
   ],
   "source": [
    "display(data.duplicated().sum())"
   ]
  },
  {
   "cell_type": "code",
   "execution_count": 19,
   "metadata": {},
   "outputs": [
    {
     "data": {
      "text/plain": [
       "Unnamed: 0    0\n",
       "text          0\n",
       "toxic         0\n",
       "dtype: int64"
      ]
     },
     "metadata": {},
     "output_type": "display_data"
    }
   ],
   "source": [
    "display(data.isna().sum())"
   ]
  },
  {
   "cell_type": "markdown",
   "metadata": {},
   "source": [
    "Пропусков нет, явных дубликатов нет"
   ]
  },
  {
   "cell_type": "markdown",
   "metadata": {},
   "source": [
    "## Обучение"
   ]
  },
  {
   "cell_type": "code",
   "execution_count": 20,
   "metadata": {},
   "outputs": [],
   "source": [
    "data = data.drop(['Unnamed: 0'], axis=1)"
   ]
  },
  {
   "cell_type": "code",
   "execution_count": 21,
   "metadata": {},
   "outputs": [],
   "source": [
    "def clear_text(text):\n",
    "    text = text.lower()\n",
    "    text = re.sub(r'[^a-zA-Z]', ' ', text)   \n",
    "    text = ' '.join(text.split())\n",
    "    return text"
   ]
  },
  {
   "cell_type": "code",
   "execution_count": 22,
   "metadata": {},
   "outputs": [
    {
     "name": "stdout",
     "output_type": "stream",
     "text": [
      "CPU times: user 4.59 s, sys: 71.4 ms, total: 4.67 s\n",
      "Wall time: 4.68 s\n"
     ]
    }
   ],
   "source": [
    "%%time\n",
    "#очищаю тексты постов:\n",
    "data['text'] = data['text'].apply(clear_text)"
   ]
  },
  {
   "cell_type": "code",
   "execution_count": 23,
   "metadata": {},
   "outputs": [
    {
     "data": {
      "text/html": [
       "<div>\n",
       "<style scoped>\n",
       "    .dataframe tbody tr th:only-of-type {\n",
       "        vertical-align: middle;\n",
       "    }\n",
       "\n",
       "    .dataframe tbody tr th {\n",
       "        vertical-align: top;\n",
       "    }\n",
       "\n",
       "    .dataframe thead th {\n",
       "        text-align: right;\n",
       "    }\n",
       "</style>\n",
       "<table border=\"1\" class=\"dataframe\">\n",
       "  <thead>\n",
       "    <tr style=\"text-align: right;\">\n",
       "      <th></th>\n",
       "      <th>text</th>\n",
       "      <th>toxic</th>\n",
       "    </tr>\n",
       "  </thead>\n",
       "  <tbody>\n",
       "    <tr>\n",
       "      <th>0</th>\n",
       "      <td>explanation why the edits made under my userna...</td>\n",
       "      <td>0</td>\n",
       "    </tr>\n",
       "    <tr>\n",
       "      <th>1</th>\n",
       "      <td>d aww he matches this background colour i m se...</td>\n",
       "      <td>0</td>\n",
       "    </tr>\n",
       "    <tr>\n",
       "      <th>2</th>\n",
       "      <td>hey man i m really not trying to edit war it s...</td>\n",
       "      <td>0</td>\n",
       "    </tr>\n",
       "    <tr>\n",
       "      <th>3</th>\n",
       "      <td>more i can t make any real suggestions on impr...</td>\n",
       "      <td>0</td>\n",
       "    </tr>\n",
       "    <tr>\n",
       "      <th>4</th>\n",
       "      <td>you sir are my hero any chance you remember wh...</td>\n",
       "      <td>0</td>\n",
       "    </tr>\n",
       "  </tbody>\n",
       "</table>\n",
       "</div>"
      ],
      "text/plain": [
       "                                                text  toxic\n",
       "0  explanation why the edits made under my userna...      0\n",
       "1  d aww he matches this background colour i m se...      0\n",
       "2  hey man i m really not trying to edit war it s...      0\n",
       "3  more i can t make any real suggestions on impr...      0\n",
       "4  you sir are my hero any chance you remember wh...      0"
      ]
     },
     "execution_count": 23,
     "metadata": {},
     "output_type": "execute_result"
    }
   ],
   "source": [
    "data.head()"
   ]
  },
  {
   "cell_type": "code",
   "execution_count": 33,
   "metadata": {},
   "outputs": [],
   "source": [
    "lemmatizer = WordNetLemmatizer()\n",
    "def get_wordnet_pos(word):\n",
    "    tag = nltk.pos_tag([word])[0][1][0].upper()\n",
    "    tag_dict = {\"J\": wordnet.ADJ,\n",
    "                \"N\": wordnet.NOUN,\n",
    "                \"V\": wordnet.VERB,\n",
    "                \"R\": wordnet.ADV}\n",
    "    return tag_dict.get(tag, wordnet.NOUN)"
   ]
  },
  {
   "cell_type": "code",
   "execution_count": 37,
   "metadata": {},
   "outputs": [],
   "source": [
    "def lemm_text(text):\n",
    "    text = [lemmatizer.lemmatize(w, get_wordnet_pos(w)) for w in nltk.word_tokenize(text)]\n",
    "    return ' '.join(text)"
   ]
  },
  {
   "cell_type": "code",
   "execution_count": 38,
   "metadata": {},
   "outputs": [],
   "source": [
    "data['text'] = data['text'].apply(lemm_text)"
   ]
  },
  {
   "cell_type": "code",
   "execution_count": 39,
   "metadata": {},
   "outputs": [],
   "source": [
    "features = data.drop(['toxic'], axis=1) \n",
    "target = data.toxic\n",
    "\n",
    "features_train, features_valid, target_train, target_valid = train_test_split(features, \n",
    "                                                                              target, \n",
    "                                                                              test_size=0.2, \n",
    "                                                                              random_state=12345)\n",
    "\n",
    "features_valid, features_test, target_valid, target_test = train_test_split(features_valid, \n",
    "                                                                            target_valid, \n",
    "                                                                            test_size=0.5,\n",
    "                                                                            random_state=12345)"
   ]
  },
  {
   "cell_type": "code",
   "execution_count": 40,
   "metadata": {},
   "outputs": [
    {
     "name": "stdout",
     "output_type": "stream",
     "text": [
      "(127433, 1)\n",
      "(127433,)\n",
      "(15929, 1)\n",
      "(15929,)\n",
      "(15930, 1)\n",
      "(15930,)\n"
     ]
    }
   ],
   "source": [
    "for i in [features_train, target_train, features_valid, target_valid, features_test, target_test]:\n",
    "    print(i.shape)\n"
   ]
  },
  {
   "cell_type": "code",
   "execution_count": 41,
   "metadata": {},
   "outputs": [
    {
     "data": {
      "text/plain": [
       "'Доля значений 1 в тренировочной выборке:'"
      ]
     },
     "metadata": {},
     "output_type": "display_data"
    },
    {
     "data": {
      "text/plain": [
       "0.10166911239631807"
      ]
     },
     "metadata": {},
     "output_type": "display_data"
    }
   ],
   "source": [
    "indices_1 = [i for i,x in enumerate(target_train) if x == 1]\n",
    "count_1 = len(indices_1)\n",
    "\n",
    "indices_0 = [i for i,x in enumerate(target_train) if x == 0]\n",
    "count_0 = len(indices_0)\n",
    "\n",
    "display('Доля значений 1 в тренировочной выборке:', len(indices_1) / (len(indices_1) + len(indices_0)))"
   ]
  },
  {
   "cell_type": "code",
   "execution_count": 42,
   "metadata": {},
   "outputs": [
    {
     "data": {
      "text/plain": [
       "'Соотношение 1/0 в тренировочной выборке:'"
      ]
     },
     "metadata": {},
     "output_type": "display_data"
    },
    {
     "data": {
      "text/plain": [
       "0    0.5\n",
       "1    0.5\n",
       "Name: toxic, dtype: float64"
      ]
     },
     "metadata": {},
     "output_type": "display_data"
    },
    {
     "data": {
      "text/plain": [
       "(25912,)"
      ]
     },
     "metadata": {},
     "output_type": "display_data"
    },
    {
     "data": {
      "text/plain": [
       "(25912,)"
      ]
     },
     "metadata": {},
     "output_type": "display_data"
    }
   ],
   "source": [
    "toxic_train = data.iloc[target_train.index]\n",
    "target_train_0 = toxic_train[toxic_train['toxic'] == 0]['toxic']\n",
    "target_train_1 = toxic_train[toxic_train['toxic'] == 1]['toxic']\n",
    "\n",
    "\n",
    "target_train_0_resample = target_train_0.sample(target_train_1.shape[0], random_state=12345)\n",
    "target_train_resample = pd.concat([target_train_0_resample, target_train_1])\n",
    "\n",
    "features_train_resample = data.iloc[target_train_resample.index]\n",
    "\n",
    "features_train_resample, target_train_resample = shuffle(features_train_resample,\n",
    "                                                         target_train_resample,\n",
    "                                                         random_state=12345)\n",
    "\n",
    "features_train_resample = features_train_resample.text \n",
    "\n",
    "display('Соотношение 1/0 в тренировочной выборке:')\n",
    "display(target_train_resample.value_counts(normalize=True))\n",
    "\n",
    "display(features_train_resample.shape)\n",
    "display(target_train_resample.shape)"
   ]
  },
  {
   "cell_type": "markdown",
   "metadata": {},
   "source": [
    "Обучение\n",
    "\n",
    "LogisticRegression"
   ]
  },
  {
   "cell_type": "code",
   "execution_count": 43,
   "metadata": {},
   "outputs": [],
   "source": [
    "features_train = features_train.text"
   ]
  },
  {
   "cell_type": "code",
   "execution_count": 44,
   "metadata": {},
   "outputs": [
    {
     "name": "stderr",
     "output_type": "stream",
     "text": [
      "/opt/conda/lib/python3.9/site-packages/sklearn/linear_model/_sag.py:328: ConvergenceWarning: The max_iter was reached which means the coef_ did not converge\n",
      "  warnings.warn(\"The max_iter was reached which means \"\n",
      "/opt/conda/lib/python3.9/site-packages/sklearn/linear_model/_sag.py:328: ConvergenceWarning: The max_iter was reached which means the coef_ did not converge\n",
      "  warnings.warn(\"The max_iter was reached which means \"\n",
      "/opt/conda/lib/python3.9/site-packages/sklearn/linear_model/_sag.py:328: ConvergenceWarning: The max_iter was reached which means the coef_ did not converge\n",
      "  warnings.warn(\"The max_iter was reached which means \"\n",
      "/opt/conda/lib/python3.9/site-packages/sklearn/linear_model/_sag.py:328: ConvergenceWarning: The max_iter was reached which means the coef_ did not converge\n",
      "  warnings.warn(\"The max_iter was reached which means \"\n",
      "/opt/conda/lib/python3.9/site-packages/sklearn/linear_model/_sag.py:328: ConvergenceWarning: The max_iter was reached which means the coef_ did not converge\n",
      "  warnings.warn(\"The max_iter was reached which means \"\n",
      "/opt/conda/lib/python3.9/site-packages/sklearn/linear_model/_sag.py:328: ConvergenceWarning: The max_iter was reached which means the coef_ did not converge\n",
      "  warnings.warn(\"The max_iter was reached which means \"\n",
      "/opt/conda/lib/python3.9/site-packages/sklearn/linear_model/_sag.py:328: ConvergenceWarning: The max_iter was reached which means the coef_ did not converge\n",
      "  warnings.warn(\"The max_iter was reached which means \"\n",
      "/opt/conda/lib/python3.9/site-packages/sklearn/linear_model/_sag.py:328: ConvergenceWarning: The max_iter was reached which means the coef_ did not converge\n",
      "  warnings.warn(\"The max_iter was reached which means \"\n",
      "/opt/conda/lib/python3.9/site-packages/sklearn/linear_model/_sag.py:328: ConvergenceWarning: The max_iter was reached which means the coef_ did not converge\n",
      "  warnings.warn(\"The max_iter was reached which means \"\n",
      "/opt/conda/lib/python3.9/site-packages/sklearn/linear_model/_logistic.py:763: ConvergenceWarning: lbfgs failed to converge (status=1):\n",
      "STOP: TOTAL NO. of ITERATIONS REACHED LIMIT.\n",
      "\n",
      "Increase the number of iterations (max_iter) or scale the data as shown in:\n",
      "    https://scikit-learn.org/stable/modules/preprocessing.html\n",
      "Please also refer to the documentation for alternative solver options:\n",
      "    https://scikit-learn.org/stable/modules/linear_model.html#logistic-regression\n",
      "  n_iter_i = _check_optimize_result(\n"
     ]
    },
    {
     "data": {
      "text/plain": [
       "'F1 логистической регрессии ='"
      ]
     },
     "metadata": {},
     "output_type": "display_data"
    },
    {
     "data": {
      "text/plain": [
       "0.76"
      ]
     },
     "metadata": {},
     "output_type": "display_data"
    },
    {
     "data": {
      "text/plain": [
       "'при параметрах'"
      ]
     },
     "metadata": {},
     "output_type": "display_data"
    },
    {
     "data": {
      "text/plain": [
       "{'lr__C': 5,\n",
       " 'lr__class_weight': 'balanced',\n",
       " 'lr__max_iter': 200,\n",
       " 'lr__random_state': 12345,\n",
       " 'lr__solver': 'liblinear'}"
      ]
     },
     "metadata": {},
     "output_type": "display_data"
    },
    {
     "name": "stdout",
     "output_type": "stream",
     "text": [
      "CPU times: user 14min 51s, sys: 8min 14s, total: 23min 6s\n",
      "Wall time: 23min 23s\n"
     ]
    }
   ],
   "source": [
    "%%time\n",
    "\n",
    "#обучение:\n",
    "pipeline = Pipeline([(\"vect\", TfidfVectorizer(stop_words='english', sublinear_tf=True)), \n",
    "                     (\"lr\", LogisticRegression())])\n",
    "    \n",
    "parameters = {'lr__solver': ('liblinear', 'saga','newton-cg', 'lbfgs'),\n",
    "              'lr__C': (.1, 1, 5, 10),\n",
    "              'lr__random_state': ([12345]),\n",
    "              'lr__max_iter': ([200]),\n",
    "              'lr__class_weight': (['balanced'])}\n",
    "                                            \n",
    "gscv = GridSearchCV(pipeline, parameters, scoring='f1', cv=3, n_jobs=-1)\n",
    "\n",
    "gscv.fit(features_train, target_train)\n",
    "\n",
    "mts = gscv.cv_results_['mean_test_score']\n",
    "lr_train_f1 = max(mts)\n",
    "\n",
    "display('F1 логистической регрессии =', round(lr_train_f1,2))\n",
    "display('при параметрах', gscv.best_params_)"
   ]
  },
  {
   "cell_type": "code",
   "execution_count": 45,
   "metadata": {},
   "outputs": [
    {
     "data": {
      "text/plain": [
       "'F1 логистической регрессии на валидации ='"
      ]
     },
     "metadata": {},
     "output_type": "display_data"
    },
    {
     "data": {
      "text/plain": [
       "0.76"
      ]
     },
     "metadata": {},
     "output_type": "display_data"
    }
   ],
   "source": [
    "#валидация:\n",
    "predictions_valid = gscv.predict(features_valid.text)\n",
    "lr_valid_f1 = f1_score(target_valid, predictions_valid)\n",
    "display('F1 логистической регрессии на валидации =', round(lr_valid_f1,2))"
   ]
  },
  {
   "cell_type": "code",
   "execution_count": 46,
   "metadata": {},
   "outputs": [
    {
     "data": {
      "text/plain": [
       "'финальный F1 логистической регрессии ='"
      ]
     },
     "metadata": {},
     "output_type": "display_data"
    },
    {
     "data": {
      "text/plain": [
       "0.76"
      ]
     },
     "metadata": {},
     "output_type": "display_data"
    }
   ],
   "source": [
    "#тестирование:\n",
    "predictions_test = gscv.predict(features_test.text)\n",
    "lr_test_f1 = f1_score(target_test, predictions_test)\n",
    "display('финальный F1 логистической регрессии =', round(lr_test_f1,2))"
   ]
  },
  {
   "cell_type": "markdown",
   "metadata": {},
   "source": [
    "DecisionTreeClassifier"
   ]
  },
  {
   "cell_type": "code",
   "execution_count": 47,
   "metadata": {},
   "outputs": [
    {
     "data": {
      "text/plain": [
       "'F1 дерева решений ='"
      ]
     },
     "metadata": {},
     "output_type": "display_data"
    },
    {
     "data": {
      "text/plain": [
       "0.71"
      ]
     },
     "metadata": {},
     "output_type": "display_data"
    },
    {
     "data": {
      "text/plain": [
       "'при параметрах'"
      ]
     },
     "metadata": {},
     "output_type": "display_data"
    },
    {
     "data": {
      "text/plain": [
       "{'dtc__class_weight': 'balanced',\n",
       " 'dtc__max_depth': 24,\n",
       " 'dtc__random_state': 12345}"
      ]
     },
     "metadata": {},
     "output_type": "display_data"
    },
    {
     "name": "stdout",
     "output_type": "stream",
     "text": [
      "CPU times: user 2min 6s, sys: 231 ms, total: 2min 6s\n",
      "Wall time: 2min 6s\n"
     ]
    }
   ],
   "source": [
    "%%time\n",
    "\n",
    "#обучение:\n",
    "pipeline = Pipeline([(\"vect\", TfidfVectorizer(stop_words='english')), \n",
    "                     (\"dtc\", DecisionTreeClassifier())])\n",
    "    \n",
    "parameters = {'dtc__max_depth': ([x for x in range(1, 25)]),\n",
    "              'dtc__random_state': ([12345]), \n",
    "              'dtc__class_weight': (['balanced'])}\n",
    "\n",
    "gscv = GridSearchCV(pipeline, parameters, scoring='f1', cv=3, n_jobs=-1)\n",
    "\n",
    "gscv.fit(features_train_resample, target_train_resample)\n",
    "\n",
    "mts = gscv.cv_results_['mean_test_score']\n",
    "dtc_train_f1 = max(mts)\n",
    "\n",
    "display('F1 дерева решений =', round(dtc_train_f1,2))\n",
    "display('при параметрах', gscv.best_params_)"
   ]
  },
  {
   "cell_type": "code",
   "execution_count": 48,
   "metadata": {},
   "outputs": [
    {
     "data": {
      "text/plain": [
       "'F1 дерева решений ='"
      ]
     },
     "metadata": {},
     "output_type": "display_data"
    },
    {
     "data": {
      "text/plain": [
       "0.63"
      ]
     },
     "metadata": {},
     "output_type": "display_data"
    },
    {
     "data": {
      "text/plain": [
       "'при параметрах'"
      ]
     },
     "metadata": {},
     "output_type": "display_data"
    },
    {
     "data": {
      "text/plain": [
       "{'dtc__class_weight': 'balanced',\n",
       " 'dtc__max_depth': 24,\n",
       " 'dtc__random_state': 12345}"
      ]
     },
     "metadata": {},
     "output_type": "display_data"
    },
    {
     "name": "stdout",
     "output_type": "stream",
     "text": [
      "CPU times: user 14min 17s, sys: 2.31 s, total: 14min 20s\n",
      "Wall time: 14min 24s\n"
     ]
    }
   ],
   "source": [
    "%%time\n",
    "\n",
    "pipeline = Pipeline([(\"vect\", TfidfVectorizer(stop_words='english')),\n",
    "    (\"dtc\", DecisionTreeClassifier())])\n",
    "parameters = {\n",
    "    'dtc__max_depth': [x for x in range(1, 25)],\n",
    "    'dtc__random_state': [12345],\n",
    "    'dtc__class_weight': ['balanced']}\n",
    "\n",
    "gscv = GridSearchCV(pipeline, parameters, scoring='f1', cv=3, n_jobs=-1)\n",
    "gscv.fit(features_train, target_train)\n",
    "dtc_train_f1 = max(gscv.cv_results_['mean_test_score'])\n",
    "display('F1 дерева решений =', round(dtc_train_f1, 2))\n",
    "display('при параметрах', gscv.best_params_)"
   ]
  },
  {
   "cell_type": "code",
   "execution_count": 49,
   "metadata": {},
   "outputs": [
    {
     "data": {
      "text/plain": [
       "'F1 дерева решений на валидации ='"
      ]
     },
     "metadata": {},
     "output_type": "display_data"
    },
    {
     "data": {
      "text/plain": [
       "0.63"
      ]
     },
     "metadata": {},
     "output_type": "display_data"
    }
   ],
   "source": [
    "#валидация:\n",
    "predictions_valid = gscv.predict(features_valid.text)\n",
    "dtc_valid_f1 = f1_score(target_valid, predictions_valid)\n",
    "display('F1 дерева решений на валидации =', round(dtc_valid_f1,2))\n"
   ]
  },
  {
   "cell_type": "code",
   "execution_count": 50,
   "metadata": {},
   "outputs": [
    {
     "data": {
      "text/plain": [
       "'финальный F1 дерева решений ='"
      ]
     },
     "metadata": {},
     "output_type": "display_data"
    },
    {
     "data": {
      "text/plain": [
       "0.63"
      ]
     },
     "metadata": {},
     "output_type": "display_data"
    }
   ],
   "source": [
    "#тестирование:\n",
    "predictions_test = gscv.predict(features_test.text)\n",
    "dtc_test_f1 = f1_score(target_test, predictions_test)\n",
    "display('финальный F1 дерева решений =', round(dtc_test_f1,2))"
   ]
  },
  {
   "cell_type": "markdown",
   "metadata": {},
   "source": [
    "CatBoostClassifier"
   ]
  },
  {
   "cell_type": "code",
   "execution_count": 51,
   "metadata": {},
   "outputs": [
    {
     "data": {
      "text/plain": [
       "'F1 CatBoostClassifier ='"
      ]
     },
     "metadata": {},
     "output_type": "display_data"
    },
    {
     "data": {
      "text/plain": [
       "0.87"
      ]
     },
     "metadata": {},
     "output_type": "display_data"
    },
    {
     "data": {
      "text/plain": [
       "'при параметрах'"
      ]
     },
     "metadata": {},
     "output_type": "display_data"
    },
    {
     "data": {
      "text/plain": [
       "{'cbc__iterations': 200, 'cbc__verbose': False}"
      ]
     },
     "metadata": {},
     "output_type": "display_data"
    },
    {
     "name": "stdout",
     "output_type": "stream",
     "text": [
      "CPU times: user 6min 10s, sys: 1.95 s, total: 6min 12s\n",
      "Wall time: 6min 22s\n"
     ]
    }
   ],
   "source": [
    "%%time\n",
    "\n",
    "#обучение:\n",
    "pipeline = Pipeline([(\"vect\", TfidfVectorizer(stop_words='english')), \n",
    "                     (\"cbc\", CatBoostClassifier())])\n",
    "    \n",
    "parameters = {'cbc__verbose': ([False]),\n",
    "              'cbc__iterations': ([200])}\n",
    "\n",
    "gscv = GridSearchCV(pipeline, parameters, scoring='f1', cv=3, n_jobs=-1)\n",
    "\n",
    "gscv.fit(features_train_resample, target_train_resample)\n",
    "\n",
    "mts = gscv.cv_results_['mean_test_score']\n",
    "cbc_train_f1 = max(mts)\n",
    "\n",
    "display('F1 CatBoostClassifier =', round(cbc_train_f1,2))\n",
    "display('при параметрах', gscv.best_params_)"
   ]
  },
  {
   "cell_type": "code",
   "execution_count": 52,
   "metadata": {},
   "outputs": [
    {
     "name": "stderr",
     "output_type": "stream",
     "text": [
      "/opt/conda/lib/python3.9/site-packages/sklearn/utils/validation.py:70: FutureWarning: Pass classes=[0 1], y=12579     0\n",
      "101766    1\n",
      "81508     1\n",
      "102215    0\n",
      "150487    0\n",
      "         ..\n",
      "15357     0\n",
      "69875     1\n",
      "82464     0\n",
      "150069    0\n",
      "63672     1\n",
      "Name: toxic, Length: 25912, dtype: int64 as keyword args. From version 1.0 (renaming of 0.25) passing these as positional arguments will result in an error\n",
      "  warnings.warn(f\"Pass {args_msg} as keyword args. From version \"\n"
     ]
    },
    {
     "data": {
      "text/plain": [
       "'F1 CatBoostClassifier ='"
      ]
     },
     "metadata": {},
     "output_type": "display_data"
    },
    {
     "data": {
      "text/plain": [
       "0.87"
      ]
     },
     "metadata": {},
     "output_type": "display_data"
    },
    {
     "data": {
      "text/plain": [
       "'при параметрах'"
      ]
     },
     "metadata": {},
     "output_type": "display_data"
    },
    {
     "data": {
      "text/plain": [
       "{'cbc__iterations': 200, 'cbc__verbose': False}"
      ]
     },
     "metadata": {},
     "output_type": "display_data"
    },
    {
     "name": "stdout",
     "output_type": "stream",
     "text": [
      "CPU times: user 6min 12s, sys: 1.77 s, total: 6min 14s\n",
      "Wall time: 6min 24s\n"
     ]
    }
   ],
   "source": [
    "%%time\n",
    "\n",
    "class_weights = class_weight.compute_class_weight('balanced', np.unique(target_train_resample), target_train_resample)\n",
    "class_weights_dict = dict(enumerate(class_weights))\n",
    "\n",
    "pipeline = Pipeline([\n",
    "    (\"vect\", TfidfVectorizer(stop_words='english')),\n",
    "    (\"cbc\", CatBoostClassifier(class_weights=class_weights_dict))\n",
    "])\n",
    "parameters = {\n",
    "    'cbc__verbose': [False],\n",
    "    'cbc__iterations': [200]\n",
    "}\n",
    "gscv = GridSearchCV(pipeline, parameters, scoring='f1', cv=3, n_jobs=-1)\n",
    "gscv.fit(features_train_resample, target_train_resample)\n",
    "mts = gscv.cv_results_['mean_test_score']\n",
    "cbc_train_f1 = max(mts)\n",
    "display('F1 CatBoostClassifier =', round(cbc_train_f1,2))\n",
    "display('при параметрах', gscv.best_params_)"
   ]
  },
  {
   "cell_type": "code",
   "execution_count": 53,
   "metadata": {},
   "outputs": [
    {
     "data": {
      "text/plain": [
       "'F1 CatBoostClassifier на валидации ='"
      ]
     },
     "metadata": {},
     "output_type": "display_data"
    },
    {
     "data": {
      "text/plain": [
       "0.72"
      ]
     },
     "metadata": {},
     "output_type": "display_data"
    }
   ],
   "source": [
    "#валидация:\n",
    "predictions_valid = gscv.predict(features_valid.text)\n",
    "cbc_valid_f1 = f1_score(target_valid, predictions_valid)\n",
    "display('F1 CatBoostClassifier на валидации =', round(cbc_valid_f1,2))"
   ]
  },
  {
   "cell_type": "code",
   "execution_count": 55,
   "metadata": {},
   "outputs": [
    {
     "data": {
      "text/plain": [
       "'финальный F1 CatBoostClassifier ='"
      ]
     },
     "metadata": {},
     "output_type": "display_data"
    },
    {
     "data": {
      "text/plain": [
       "0.72"
      ]
     },
     "metadata": {},
     "output_type": "display_data"
    }
   ],
   "source": [
    "#тестирование:\n",
    "predictions_test = gscv.predict(features_test.text)\n",
    "cbc_test_f1 = f1_score(target_test, predictions_test)\n",
    "display('финальный F1 CatBoostClassifier =', round(cbc_test_f1,2))"
   ]
  },
  {
   "cell_type": "markdown",
   "metadata": {},
   "source": [
    "SGDClassifier"
   ]
  },
  {
   "cell_type": "code",
   "execution_count": 56,
   "metadata": {},
   "outputs": [
    {
     "data": {
      "text/plain": [
       "'F1 SGDClassifier ='"
      ]
     },
     "metadata": {},
     "output_type": "display_data"
    },
    {
     "data": {
      "text/plain": [
       "0.89"
      ]
     },
     "metadata": {},
     "output_type": "display_data"
    },
    {
     "data": {
      "text/plain": [
       "'при параметрах'"
      ]
     },
     "metadata": {},
     "output_type": "display_data"
    },
    {
     "data": {
      "text/plain": [
       "{'clf__class_weight': 'balanced',\n",
       " 'clf__eta0': 0.01,\n",
       " 'clf__learning_rate': 'adaptive',\n",
       " 'clf__loss': 'modified_huber',\n",
       " 'clf__random_state': 12345}"
      ]
     },
     "metadata": {},
     "output_type": "display_data"
    },
    {
     "name": "stdout",
     "output_type": "stream",
     "text": [
      "CPU times: user 3min 3s, sys: 11.5 s, total: 3min 15s\n",
      "Wall time: 3min 17s\n"
     ]
    }
   ],
   "source": [
    "%%time\n",
    "\n",
    "#обучение:\n",
    "pipeline = Pipeline([(\"vect\", TfidfVectorizer(stop_words='english')), \n",
    "                     (\"clf\", SGDClassifier())])\n",
    "    \n",
    "parameters = {'clf__loss': ('hinge', 'log', 'modified_huber'),\n",
    "              'clf__learning_rate': ('constant', 'optimal', 'invscaling', 'adaptive'),\n",
    "              'clf__eta0': (.01, .05, .1, .5),\n",
    "              'clf__random_state': ([12345]),\n",
    "              'clf__class_weight': (['balanced'])}\n",
    "\n",
    "gscv = GridSearchCV(pipeline, parameters, scoring='f1', cv=3, n_jobs=-1)\n",
    "\n",
    "gscv.fit(features_train_resample, target_train_resample)\n",
    "\n",
    "mts = gscv.cv_results_['mean_test_score']\n",
    "sgdc_train_f1 = max(mts)\n",
    "\n",
    "display('F1 SGDClassifier =', round(sgdc_train_f1,2))\n",
    "display('при параметрах', gscv.best_params_)"
   ]
  },
  {
   "cell_type": "code",
   "execution_count": 57,
   "metadata": {},
   "outputs": [
    {
     "data": {
      "text/plain": [
       "'F1 SGDClassifier на валидации ='"
      ]
     },
     "metadata": {},
     "output_type": "display_data"
    },
    {
     "data": {
      "text/plain": [
       "0.69"
      ]
     },
     "metadata": {},
     "output_type": "display_data"
    }
   ],
   "source": [
    "#валидация:\n",
    "predictions_valid = gscv.predict(features_valid.text)\n",
    "sgdc_valid_f1 = f1_score(target_valid, predictions_valid)\n",
    "display('F1 SGDClassifier на валидации =', round(sgdc_valid_f1,2))"
   ]
  },
  {
   "cell_type": "code",
   "execution_count": 58,
   "metadata": {},
   "outputs": [
    {
     "data": {
      "text/plain": [
       "'финальный F1 SGDClassifier ='"
      ]
     },
     "metadata": {},
     "output_type": "display_data"
    },
    {
     "data": {
      "text/plain": [
       "0.7"
      ]
     },
     "metadata": {},
     "output_type": "display_data"
    }
   ],
   "source": [
    "#тестирование:\n",
    "predictions_test = gscv.predict(features_test.text)\n",
    "sgdc_test_f1 = f1_score(target_test, predictions_test)\n",
    "display('финальный F1 SGDClassifier =', round(sgdc_test_f1,2))"
   ]
  },
  {
   "cell_type": "markdown",
   "metadata": {},
   "source": [
    "## Выводы"
   ]
  },
  {
   "cell_type": "code",
   "execution_count": 59,
   "metadata": {},
   "outputs": [
    {
     "data": {
      "text/html": [
       "<div>\n",
       "<style scoped>\n",
       "    .dataframe tbody tr th:only-of-type {\n",
       "        vertical-align: middle;\n",
       "    }\n",
       "\n",
       "    .dataframe tbody tr th {\n",
       "        vertical-align: top;\n",
       "    }\n",
       "\n",
       "    .dataframe thead th {\n",
       "        text-align: right;\n",
       "    }\n",
       "</style>\n",
       "<table border=\"1\" class=\"dataframe\">\n",
       "  <thead>\n",
       "    <tr style=\"text-align: right;\">\n",
       "      <th></th>\n",
       "      <th>F1 на обучающей выборке</th>\n",
       "      <th>F1 на валидационной выборке</th>\n",
       "      <th>F1 на тестовой выборке</th>\n",
       "    </tr>\n",
       "  </thead>\n",
       "  <tbody>\n",
       "    <tr>\n",
       "      <th>LogisticRegression</th>\n",
       "      <td>0.755857</td>\n",
       "      <td>0.762490</td>\n",
       "      <td>0.763084</td>\n",
       "    </tr>\n",
       "    <tr>\n",
       "      <th>CatBoostClassifier</th>\n",
       "      <td>0.873915</td>\n",
       "      <td>0.719786</td>\n",
       "      <td>0.721583</td>\n",
       "    </tr>\n",
       "    <tr>\n",
       "      <th>SGDClassifier</th>\n",
       "      <td>0.891602</td>\n",
       "      <td>0.693450</td>\n",
       "      <td>0.697537</td>\n",
       "    </tr>\n",
       "    <tr>\n",
       "      <th>DecisionTreeClassifier</th>\n",
       "      <td>0.625409</td>\n",
       "      <td>0.631505</td>\n",
       "      <td>0.632056</td>\n",
       "    </tr>\n",
       "  </tbody>\n",
       "</table>\n",
       "</div>"
      ],
      "text/plain": [
       "                        F1 на обучающей выборке  F1 на валидационной выборке  \\\n",
       "LogisticRegression                     0.755857                     0.762490   \n",
       "CatBoostClassifier                     0.873915                     0.719786   \n",
       "SGDClassifier                          0.891602                     0.693450   \n",
       "DecisionTreeClassifier                 0.625409                     0.631505   \n",
       "\n",
       "                        F1 на тестовой выборке  \n",
       "LogisticRegression                    0.763084  \n",
       "CatBoostClassifier                    0.721583  \n",
       "SGDClassifier                         0.697537  \n",
       "DecisionTreeClassifier                0.632056  "
      ]
     },
     "execution_count": 59,
     "metadata": {},
     "output_type": "execute_result"
    }
   ],
   "source": [
    "index = ['LogisticRegression',\n",
    "         'DecisionTreeClassifier',\n",
    "         'CatBoostClassifier',\n",
    "         'SGDClassifier'\n",
    "        ]\n",
    "\n",
    "data = {'F1 на обучающей выборке': [lr_train_f1,\n",
    "                                    dtc_train_f1,\n",
    "                                    cbc_train_f1,\n",
    "                                    sgdc_train_f1],\n",
    "        \n",
    "        'F1 на валидационной выборке': [lr_valid_f1,\n",
    "                                        dtc_valid_f1,\n",
    "                                        cbc_valid_f1,\n",
    "                                        sgdc_valid_f1],\n",
    "        \n",
    "        'F1 на тестовой выборке': [lr_test_f1,\n",
    "                                               dtc_test_f1,\n",
    "                                               cbc_test_f1,\n",
    "                                               sgdc_test_f1]}\n",
    "\n",
    "scores_data = pd.DataFrame(data=data, index=index)\n",
    "\n",
    "scores_data.sort_values(by='F1 на тестовой выборке', ascending=False)"
   ]
  },
  {
   "cell_type": "markdown",
   "metadata": {},
   "source": [
    "Подготовленны данные обучения.\n",
    "\n",
    "Выбран способ баланса классов, сформированы обучающая, валидационная и тестовая выборка.\n",
    "\n",
    "Обучены модели и выбрана лучшая из них на валидационной выборке.\n",
    "\n",
    "Показаны параметры качества моделей.\n",
    "\n",
    "Исходные данные обладают большим количеством признаков. Созданных столбцов больше, чем записей данных. Лучшая модель стала LogisticRegression."
   ]
  },
  {
   "cell_type": "markdown",
   "metadata": {},
   "source": [
    "<div class=\"alert alert-block alert-success\">\n",
    "<b>Успех:</b> Приятно видеть вывод в конце проекта!\n",
    "</div>"
   ]
  },
  {
   "cell_type": "markdown",
   "metadata": {},
   "source": [
    "## Чек-лист проверки"
   ]
  },
  {
   "cell_type": "markdown",
   "metadata": {},
   "source": [
    "- [x]  Jupyter Notebook открыт\n",
    "- [x]  Весь код выполняется без ошибок\n",
    "- [x]  Ячейки с кодом расположены в порядке исполнения\n",
    "- [x]  Данные загружены и подготовлены\n",
    "- [x]  Модели обучены\n",
    "- [x]  Значение метрики *F1* не меньше 0.75\n",
    "- [x]  Выводы написаны"
   ]
  },
  {
   "cell_type": "code",
   "execution_count": null,
   "metadata": {},
   "outputs": [],
   "source": []
  }
 ],
 "metadata": {
  "ExecuteTimeLog": [
   {
    "duration": 1394,
    "start_time": "2023-09-02T18:00:31.581Z"
   },
   {
    "duration": 3366,
    "start_time": "2023-09-02T18:01:02.106Z"
   },
   {
    "duration": 13,
    "start_time": "2023-09-02T18:01:14.968Z"
   },
   {
    "duration": 29,
    "start_time": "2023-09-02T18:01:36.065Z"
   },
   {
    "duration": 273,
    "start_time": "2023-09-02T18:02:15.211Z"
   },
   {
    "duration": 28,
    "start_time": "2023-09-02T18:02:30.238Z"
   },
   {
    "duration": 12,
    "start_time": "2023-09-02T18:04:41.780Z"
   },
   {
    "duration": 3,
    "start_time": "2023-09-02T18:05:02.432Z"
   },
   {
    "duration": 175,
    "start_time": "2023-09-02T18:05:10.589Z"
   },
   {
    "duration": 4606,
    "start_time": "2023-09-02T18:05:23.066Z"
   },
   {
    "duration": 7,
    "start_time": "2023-09-02T18:05:42.376Z"
   },
   {
    "duration": 4,
    "start_time": "2023-09-02T18:06:02.142Z"
   },
   {
    "duration": 4,
    "start_time": "2023-09-02T18:06:16.561Z"
   },
   {
    "duration": 415,
    "start_time": "2023-09-02T18:06:48.816Z"
   },
   {
    "duration": 413,
    "start_time": "2023-09-02T18:07:05.246Z"
   },
   {
    "duration": 4,
    "start_time": "2023-09-02T18:18:08.052Z"
   },
   {
    "duration": 4,
    "start_time": "2023-09-02T18:18:10.677Z"
   },
   {
    "duration": 382,
    "start_time": "2023-09-02T18:18:13.046Z"
   },
   {
    "duration": 344,
    "start_time": "2023-09-02T18:19:06.090Z"
   },
   {
    "duration": 6,
    "start_time": "2023-09-02T18:21:56.276Z"
   },
   {
    "duration": 4,
    "start_time": "2023-09-02T18:22:04.854Z"
   },
   {
    "duration": 4,
    "start_time": "2023-09-02T18:22:24.947Z"
   },
   {
    "duration": 291,
    "start_time": "2023-09-02T18:22:28.669Z"
   },
   {
    "duration": 768,
    "start_time": "2023-09-02T18:23:53.814Z"
   },
   {
    "duration": 4,
    "start_time": "2023-09-02T18:24:03.818Z"
   },
   {
    "duration": 3,
    "start_time": "2023-09-02T18:24:05.645Z"
   },
   {
    "duration": 1185226,
    "start_time": "2023-09-02T18:24:08.046Z"
   },
   {
    "duration": 34,
    "start_time": "2023-09-02T18:52:08.286Z"
   },
   {
    "duration": 5,
    "start_time": "2023-09-02T18:52:34.511Z"
   },
   {
    "duration": 67,
    "start_time": "2023-09-02T18:52:59.968Z"
   },
   {
    "duration": 24,
    "start_time": "2023-09-02T19:01:34.901Z"
   },
   {
    "duration": 47,
    "start_time": "2023-09-02T19:03:03.177Z"
   },
   {
    "duration": 20,
    "start_time": "2023-09-02T19:06:48.236Z"
   },
   {
    "duration": 11,
    "start_time": "2023-09-02T19:07:29.481Z"
   },
   {
    "duration": 12,
    "start_time": "2023-09-02T19:10:11.182Z"
   },
   {
    "duration": 12,
    "start_time": "2023-09-02T19:14:30.185Z"
   },
   {
    "duration": 3,
    "start_time": "2023-09-02T19:26:51.405Z"
   },
   {
    "duration": 248627,
    "start_time": "2023-09-02T19:27:26.986Z"
   },
   {
    "duration": 1474299,
    "start_time": "2023-09-02T19:32:33.871Z"
   },
   {
    "duration": 679,
    "start_time": "2023-09-02T19:57:14.917Z"
   },
   {
    "duration": 755,
    "start_time": "2023-09-02T19:57:19.031Z"
   },
   {
    "duration": 118966,
    "start_time": "2023-09-02T19:59:17.693Z"
   },
   {
    "duration": 668,
    "start_time": "2023-09-02T20:01:38.799Z"
   },
   {
    "duration": 609,
    "start_time": "2023-09-02T20:01:42.358Z"
   },
   {
    "duration": 352849,
    "start_time": "2023-09-02T20:02:44.558Z"
   },
   {
    "duration": 882,
    "start_time": "2023-09-02T20:09:04.378Z"
   },
   {
    "duration": 865,
    "start_time": "2023-09-02T20:09:09.401Z"
   },
   {
    "duration": 191257,
    "start_time": "2023-09-02T20:19:06.571Z"
   },
   {
    "duration": 605,
    "start_time": "2023-09-02T20:29:28.186Z"
   },
   {
    "duration": 612,
    "start_time": "2023-09-02T20:29:30.885Z"
   },
   {
    "duration": 1085,
    "start_time": "2023-09-02T20:31:25.493Z"
   },
   {
    "duration": 1029,
    "start_time": "2023-09-02T20:33:21.872Z"
   },
   {
    "duration": 12,
    "start_time": "2023-09-02T20:34:19.858Z"
   },
   {
    "duration": 13,
    "start_time": "2023-09-02T20:35:21.667Z"
   },
   {
    "duration": 12,
    "start_time": "2023-09-02T20:35:30.539Z"
   },
   {
    "duration": 14,
    "start_time": "2023-09-02T20:35:49.559Z"
   },
   {
    "duration": 12,
    "start_time": "2023-09-02T20:36:33.209Z"
   },
   {
    "duration": 12,
    "start_time": "2023-09-02T20:36:38.633Z"
   },
   {
    "duration": 401,
    "start_time": "2023-09-02T20:37:11.867Z"
   },
   {
    "duration": 170,
    "start_time": "2023-09-02T20:37:17.734Z"
   },
   {
    "duration": 143,
    "start_time": "2023-09-02T20:39:04.863Z"
   },
   {
    "duration": 131,
    "start_time": "2023-09-02T20:39:54.831Z"
   },
   {
    "duration": 139,
    "start_time": "2023-09-02T20:40:06.888Z"
   },
   {
    "duration": 144,
    "start_time": "2023-09-02T20:41:16.174Z"
   },
   {
    "duration": 4,
    "start_time": "2023-09-02T20:46:25.680Z"
   },
   {
    "duration": 4,
    "start_time": "2023-09-02T20:46:32.331Z"
   },
   {
    "duration": 4,
    "start_time": "2023-09-02T20:46:34.294Z"
   },
   {
    "duration": 12,
    "start_time": "2023-09-02T20:46:37.280Z"
   },
   {
    "duration": 11,
    "start_time": "2023-09-02T20:46:43.210Z"
   },
   {
    "duration": 13,
    "start_time": "2023-09-02T20:46:50.297Z"
   },
   {
    "duration": 15,
    "start_time": "2023-09-02T20:46:54.003Z"
   },
   {
    "duration": 6,
    "start_time": "2023-09-02T20:47:30.306Z"
   },
   {
    "duration": 928,
    "start_time": "2023-09-02T20:47:32.957Z"
   },
   {
    "duration": 11,
    "start_time": "2023-09-02T20:47:34.683Z"
   },
   {
    "duration": 34,
    "start_time": "2023-09-02T20:47:36.778Z"
   },
   {
    "duration": 13,
    "start_time": "2023-09-02T20:47:39.762Z"
   },
   {
    "duration": 3,
    "start_time": "2023-09-02T20:47:41.439Z"
   },
   {
    "duration": 4107,
    "start_time": "2023-09-02T20:47:46.962Z"
   },
   {
    "duration": 4,
    "start_time": "2023-09-02T20:48:04.741Z"
   },
   {
    "duration": 4,
    "start_time": "2023-09-02T20:48:06.961Z"
   },
   {
    "duration": 1203826,
    "start_time": "2023-09-02T20:48:09.034Z"
   },
   {
    "duration": 46,
    "start_time": "2023-09-02T21:08:27.243Z"
   },
   {
    "duration": 76,
    "start_time": "2023-09-04T19:15:21.931Z"
   },
   {
    "duration": 11,
    "start_time": "2023-09-04T19:15:31.288Z"
   },
   {
    "duration": 2620,
    "start_time": "2023-09-04T19:15:39.558Z"
   },
   {
    "duration": 101,
    "start_time": "2023-09-04T19:15:49.687Z"
   },
   {
    "duration": 12,
    "start_time": "2023-09-04T19:16:09.942Z"
   },
   {
    "duration": 2751,
    "start_time": "2023-09-04T19:16:17.385Z"
   },
   {
    "duration": 12,
    "start_time": "2023-09-04T19:16:20.138Z"
   },
   {
    "duration": 15,
    "start_time": "2023-09-04T19:16:22.286Z"
   },
   {
    "duration": 5,
    "start_time": "2023-09-04T19:16:22.872Z"
   },
   {
    "duration": 4835,
    "start_time": "2023-09-04T19:16:23.584Z"
   },
   {
    "duration": 5,
    "start_time": "2023-09-04T19:16:28.422Z"
   },
   {
    "duration": 39,
    "start_time": "2023-09-04T19:16:33.036Z"
   },
   {
    "duration": 4,
    "start_time": "2023-09-04T19:16:36.003Z"
   },
   {
    "duration": 11,
    "start_time": "2023-09-04T19:16:48.224Z"
   },
   {
    "duration": 3,
    "start_time": "2023-09-04T19:16:52.970Z"
   },
   {
    "duration": 5,
    "start_time": "2023-09-04T19:16:53.515Z"
   },
   {
    "duration": 1198610,
    "start_time": "2023-09-04T19:16:56.887Z"
   },
   {
    "duration": 76,
    "start_time": "2023-09-04T19:37:27.396Z"
   },
   {
    "duration": 4,
    "start_time": "2023-09-04T19:37:29.745Z"
   },
   {
    "duration": 39,
    "start_time": "2023-09-04T19:37:33.678Z"
   },
   {
    "duration": 89,
    "start_time": "2023-09-04T19:37:38.311Z"
   },
   {
    "duration": 3,
    "start_time": "2023-09-04T19:37:43.479Z"
   },
   {
    "duration": 126139,
    "start_time": "2023-09-04T19:37:52.572Z"
   },
   {
    "duration": 391863,
    "start_time": "2023-09-04T19:40:17.046Z"
   },
   {
    "duration": 825944,
    "start_time": "2023-09-04T19:47:08.081Z"
   },
   {
    "duration": 693,
    "start_time": "2023-09-04T20:01:41.695Z"
   },
   {
    "duration": 744,
    "start_time": "2023-09-04T20:01:46.296Z"
   },
   {
    "duration": 11,
    "start_time": "2023-09-04T20:04:02.840Z"
   },
   {
    "duration": 108,
    "start_time": "2023-09-04T20:33:11.007Z"
   },
   {
    "duration": 266,
    "start_time": "2023-09-04T20:33:32.336Z"
   },
   {
    "duration": 18,
    "start_time": "2023-09-04T20:38:28.834Z"
   },
   {
    "duration": 13,
    "start_time": "2023-09-04T20:38:34.102Z"
   },
   {
    "duration": 138,
    "start_time": "2023-09-04T20:40:04.203Z"
   },
   {
    "duration": 6829,
    "start_time": "2023-09-04T20:40:11.964Z"
   },
   {
    "duration": 337,
    "start_time": "2023-09-04T20:40:47.889Z"
   },
   {
    "duration": 213,
    "start_time": "2023-09-04T20:41:44.700Z"
   },
   {
    "duration": 2327,
    "start_time": "2023-09-04T20:42:04.707Z"
   },
   {
    "duration": 8,
    "start_time": "2023-09-04T20:42:12.587Z"
   },
   {
    "duration": 84,
    "start_time": "2023-09-04T20:42:26.387Z"
   },
   {
    "duration": 9,
    "start_time": "2023-09-04T20:43:00.638Z"
   },
   {
    "duration": 364,
    "start_time": "2023-09-04T20:43:09.518Z"
   },
   {
    "duration": 5,
    "start_time": "2023-09-04T20:47:38.345Z"
   },
   {
    "duration": 329916,
    "start_time": "2023-09-04T20:48:15.305Z"
   },
   {
    "duration": 95,
    "start_time": "2023-09-04T20:57:41.870Z"
   },
   {
    "duration": 792,
    "start_time": "2023-09-04T20:57:49.179Z"
   },
   {
    "duration": 776,
    "start_time": "2023-09-04T20:57:53.245Z"
   },
   {
    "duration": 3048,
    "start_time": "2023-09-04T21:06:13.864Z"
   },
   {
    "duration": 347005,
    "start_time": "2023-09-04T21:07:05.167Z"
   },
   {
    "duration": 22,
    "start_time": "2023-09-04T21:13:02.593Z"
   },
   {
    "duration": 848,
    "start_time": "2023-09-04T21:13:22.487Z"
   },
   {
    "duration": 11,
    "start_time": "2023-09-04T21:13:35.175Z"
   },
   {
    "duration": 3154,
    "start_time": "2023-09-05T04:49:04.472Z"
   },
   {
    "duration": 48,
    "start_time": "2023-09-05T04:49:11.773Z"
   },
   {
    "duration": 15,
    "start_time": "2023-09-05T04:49:33.438Z"
   },
   {
    "duration": 46,
    "start_time": "2023-09-05T04:49:34.779Z"
   },
   {
    "duration": 7,
    "start_time": "2023-09-05T04:50:02.370Z"
   },
   {
    "duration": 7200,
    "start_time": "2023-09-05T04:50:07.822Z"
   },
   {
    "duration": 959,
    "start_time": "2023-09-05T04:50:15.025Z"
   },
   {
    "duration": 51,
    "start_time": "2024-07-06T18:19:01.771Z"
   },
   {
    "duration": 2464,
    "start_time": "2024-07-06T18:19:17.811Z"
   },
   {
    "duration": 2228,
    "start_time": "2024-07-06T18:19:20.277Z"
   },
   {
    "duration": 10,
    "start_time": "2024-07-06T18:19:22.507Z"
   },
   {
    "duration": 51,
    "start_time": "2024-07-06T18:19:22.520Z"
   },
   {
    "duration": 225,
    "start_time": "2024-07-06T18:19:22.573Z"
   },
   {
    "duration": 26,
    "start_time": "2024-07-06T18:19:22.800Z"
   },
   {
    "duration": 15,
    "start_time": "2024-07-06T18:19:22.837Z"
   },
   {
    "duration": 24,
    "start_time": "2024-07-06T18:19:22.854Z"
   },
   {
    "duration": 4267,
    "start_time": "2024-07-06T18:19:22.879Z"
   },
   {
    "duration": 7,
    "start_time": "2024-07-06T18:19:27.149Z"
   },
   {
    "duration": 7,
    "start_time": "2024-07-06T18:19:27.157Z"
   },
   {
    "duration": 8,
    "start_time": "2024-07-06T18:19:27.166Z"
   },
   {
    "duration": 684327,
    "start_time": "2024-07-06T18:19:27.176Z"
   },
   {
    "duration": 0,
    "start_time": "2024-07-06T18:30:51.506Z"
   },
   {
    "duration": 0,
    "start_time": "2024-07-06T18:30:51.508Z"
   },
   {
    "duration": 0,
    "start_time": "2024-07-06T18:30:51.509Z"
   },
   {
    "duration": 0,
    "start_time": "2024-07-06T18:30:51.510Z"
   },
   {
    "duration": 0,
    "start_time": "2024-07-06T18:30:51.511Z"
   },
   {
    "duration": 0,
    "start_time": "2024-07-06T18:30:51.512Z"
   },
   {
    "duration": 0,
    "start_time": "2024-07-06T18:30:51.513Z"
   },
   {
    "duration": 0,
    "start_time": "2024-07-06T18:30:51.514Z"
   },
   {
    "duration": 0,
    "start_time": "2024-07-06T18:30:51.515Z"
   },
   {
    "duration": 0,
    "start_time": "2024-07-06T18:30:51.516Z"
   },
   {
    "duration": 0,
    "start_time": "2024-07-06T18:30:51.517Z"
   },
   {
    "duration": 0,
    "start_time": "2024-07-06T18:30:51.518Z"
   },
   {
    "duration": 0,
    "start_time": "2024-07-06T18:30:51.518Z"
   },
   {
    "duration": 0,
    "start_time": "2024-07-06T18:30:51.519Z"
   },
   {
    "duration": 0,
    "start_time": "2024-07-06T18:30:51.520Z"
   },
   {
    "duration": 0,
    "start_time": "2024-07-06T18:30:51.521Z"
   },
   {
    "duration": 0,
    "start_time": "2024-07-06T18:30:51.522Z"
   },
   {
    "duration": 0,
    "start_time": "2024-07-06T18:30:51.523Z"
   },
   {
    "duration": 0,
    "start_time": "2024-07-06T18:30:51.524Z"
   },
   {
    "duration": 0,
    "start_time": "2024-07-06T18:30:51.525Z"
   },
   {
    "duration": 1766,
    "start_time": "2024-07-06T18:31:01.576Z"
   },
   {
    "duration": 1009,
    "start_time": "2024-07-06T18:31:03.350Z"
   },
   {
    "duration": 11,
    "start_time": "2024-07-06T18:31:04.360Z"
   },
   {
    "duration": 41,
    "start_time": "2024-07-06T18:31:04.373Z"
   },
   {
    "duration": 266,
    "start_time": "2024-07-06T18:31:04.415Z"
   },
   {
    "duration": 26,
    "start_time": "2024-07-06T18:31:04.682Z"
   },
   {
    "duration": 12,
    "start_time": "2024-07-06T18:31:04.710Z"
   },
   {
    "duration": 11,
    "start_time": "2024-07-06T18:31:04.741Z"
   },
   {
    "duration": 4567,
    "start_time": "2024-07-06T18:31:04.755Z"
   },
   {
    "duration": 6,
    "start_time": "2024-07-06T18:31:09.325Z"
   },
   {
    "duration": 18,
    "start_time": "2024-07-06T18:31:09.337Z"
   },
   {
    "duration": 22,
    "start_time": "2024-07-06T18:31:09.357Z"
   },
   {
    "duration": 853181,
    "start_time": "2024-07-06T18:31:09.381Z"
   },
   {
    "duration": 0,
    "start_time": "2024-07-06T18:45:22.564Z"
   },
   {
    "duration": 0,
    "start_time": "2024-07-06T18:45:22.565Z"
   },
   {
    "duration": 0,
    "start_time": "2024-07-06T18:45:22.566Z"
   },
   {
    "duration": 0,
    "start_time": "2024-07-06T18:45:22.567Z"
   },
   {
    "duration": 0,
    "start_time": "2024-07-06T18:45:22.568Z"
   },
   {
    "duration": 0,
    "start_time": "2024-07-06T18:45:22.570Z"
   },
   {
    "duration": 0,
    "start_time": "2024-07-06T18:45:22.570Z"
   },
   {
    "duration": 0,
    "start_time": "2024-07-06T18:45:22.572Z"
   },
   {
    "duration": 0,
    "start_time": "2024-07-06T18:45:22.573Z"
   },
   {
    "duration": 0,
    "start_time": "2024-07-06T18:45:22.574Z"
   },
   {
    "duration": 0,
    "start_time": "2024-07-06T18:45:22.575Z"
   },
   {
    "duration": 0,
    "start_time": "2024-07-06T18:45:22.576Z"
   },
   {
    "duration": 0,
    "start_time": "2024-07-06T18:45:22.577Z"
   },
   {
    "duration": 0,
    "start_time": "2024-07-06T18:45:22.578Z"
   },
   {
    "duration": 0,
    "start_time": "2024-07-06T18:45:22.579Z"
   },
   {
    "duration": 0,
    "start_time": "2024-07-06T18:45:22.580Z"
   },
   {
    "duration": 0,
    "start_time": "2024-07-06T18:45:22.581Z"
   },
   {
    "duration": 0,
    "start_time": "2024-07-06T18:45:22.582Z"
   },
   {
    "duration": 0,
    "start_time": "2024-07-06T18:45:22.583Z"
   },
   {
    "duration": 0,
    "start_time": "2024-07-06T18:45:22.584Z"
   },
   {
    "duration": 9,
    "start_time": "2024-07-06T18:45:27.541Z"
   },
   {
    "duration": 976,
    "start_time": "2024-07-06T18:45:32.999Z"
   },
   {
    "duration": 7,
    "start_time": "2024-07-06T18:45:33.977Z"
   },
   {
    "duration": 40,
    "start_time": "2024-07-06T18:45:35.011Z"
   },
   {
    "duration": 242,
    "start_time": "2024-07-06T18:45:39.031Z"
   },
   {
    "duration": 30,
    "start_time": "2024-07-06T18:45:39.841Z"
   },
   {
    "duration": 13,
    "start_time": "2024-07-06T18:45:42.455Z"
   },
   {
    "duration": 3,
    "start_time": "2024-07-06T18:45:44.789Z"
   },
   {
    "duration": 4688,
    "start_time": "2024-07-06T18:45:47.575Z"
   },
   {
    "duration": 11,
    "start_time": "2024-07-06T18:45:56.037Z"
   },
   {
    "duration": 4,
    "start_time": "2024-07-06T18:46:04.212Z"
   },
   {
    "duration": 3,
    "start_time": "2024-07-06T18:46:06.028Z"
   },
   {
    "duration": 4,
    "start_time": "2024-07-06T18:46:13.439Z"
   },
   {
    "duration": 64,
    "start_time": "2024-07-06T19:09:12.809Z"
   },
   {
    "duration": 4,
    "start_time": "2024-07-06T19:09:13.697Z"
   },
   {
    "duration": 10,
    "start_time": "2024-07-06T19:09:19.860Z"
   },
   {
    "duration": 3,
    "start_time": "2024-07-06T19:09:21.526Z"
   },
   {
    "duration": 17836,
    "start_time": "2024-07-06T19:09:22.056Z"
   },
   {
    "duration": 0,
    "start_time": "2024-07-06T19:09:39.894Z"
   },
   {
    "duration": 0,
    "start_time": "2024-07-06T19:09:39.896Z"
   },
   {
    "duration": 6,
    "start_time": "2024-07-06T19:09:49.342Z"
   },
   {
    "duration": 2,
    "start_time": "2024-07-06T19:09:50.114Z"
   },
   {
    "duration": 4,
    "start_time": "2024-07-06T19:09:54.108Z"
   },
   {
    "duration": 139230,
    "start_time": "2024-07-06T19:09:57.225Z"
   },
   {
    "duration": 3,
    "start_time": "2024-07-06T19:12:22.487Z"
   },
   {
    "duration": 1321552,
    "start_time": "2024-07-06T19:12:24.657Z"
   },
   {
    "duration": 47,
    "start_time": "2024-07-06T19:39:18.711Z"
   },
   {
    "duration": 3,
    "start_time": "2024-07-06T19:39:19.700Z"
   },
   {
    "duration": 38,
    "start_time": "2024-07-06T19:39:23.182Z"
   },
   {
    "duration": 47,
    "start_time": "2024-07-06T19:39:26.008Z"
   },
   {
    "duration": 3,
    "start_time": "2024-07-06T19:39:28.899Z"
   },
   {
    "duration": 1404000,
    "start_time": "2024-07-06T19:39:31.374Z"
   },
   {
    "duration": 892,
    "start_time": "2024-07-06T20:05:31.211Z"
   },
   {
    "duration": 733,
    "start_time": "2024-07-06T20:05:34.965Z"
   },
   {
    "duration": 126736,
    "start_time": "2024-07-06T20:05:39.316Z"
   },
   {
    "duration": 864341,
    "start_time": "2024-07-06T20:08:17.714Z"
   },
   {
    "duration": 792,
    "start_time": "2024-07-06T20:25:06.709Z"
   },
   {
    "duration": 780,
    "start_time": "2024-07-06T20:25:11.381Z"
   },
   {
    "duration": 382545,
    "start_time": "2024-07-06T20:25:15.229Z"
   },
   {
    "duration": 384743,
    "start_time": "2024-07-06T20:35:53.899Z"
   },
   {
    "duration": 927,
    "start_time": "2024-07-06T20:43:37.808Z"
   },
   {
    "duration": 887,
    "start_time": "2024-07-06T20:43:47.455Z"
   },
   {
    "duration": 197760,
    "start_time": "2024-07-06T20:43:55.211Z"
   },
   {
    "duration": 699,
    "start_time": "2024-07-06T20:56:17.262Z"
   },
   {
    "duration": 699,
    "start_time": "2024-07-06T20:56:21.331Z"
   },
   {
    "duration": 15,
    "start_time": "2024-07-06T20:56:26.319Z"
   }
  ],
  "kernelspec": {
   "display_name": "Python 3 (ipykernel)",
   "language": "python",
   "name": "python3"
  },
  "language_info": {
   "codemirror_mode": {
    "name": "ipython",
    "version": 3
   },
   "file_extension": ".py",
   "mimetype": "text/x-python",
   "name": "python",
   "nbconvert_exporter": "python",
   "pygments_lexer": "ipython3",
   "version": "3.9.5"
  },
  "toc": {
   "base_numbering": 1,
   "nav_menu": {},
   "number_sections": true,
   "sideBar": true,
   "skip_h1_title": true,
   "title_cell": "Содержание",
   "title_sidebar": "Contents",
   "toc_cell": true,
   "toc_position": {
    "height": "calc(100% - 180px)",
    "left": "10px",
    "top": "150px",
    "width": "302.391px"
   },
   "toc_section_display": true,
   "toc_window_display": false
  }
 },
 "nbformat": 4,
 "nbformat_minor": 2
}
